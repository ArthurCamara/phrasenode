{
 "cells": [
  {
   "cell_type": "code",
   "execution_count": 72,
   "metadata": {},
   "outputs": [
    {
     "name": "stdout",
     "output_type": "stream",
     "text": [
      "The autoreload extension is already loaded. To reload it, use:\n",
      "  %reload_ext autoreload\n"
     ]
    }
   ],
   "source": [
    "%load_ext autoreload\n",
    "%autoreload 2\n",
    "from tf_idf_documents import TF_IDF_Documents\n",
    "from  document_cleaner import query_cleaner\n",
    "import json\n",
    "from sklearn.metrics.pairwise import cosine_similarity"
   ]
  },
  {
   "cell_type": "code",
   "execution_count": 73,
   "metadata": {},
   "outputs": [
    {
     "name": "stderr",
     "output_type": "stream",
     "text": [
      "training TF-IDF: 100%|██████████| 36078/36078 [02:15<00:00, 266.05it/s]\n"
     ]
    }
   ],
   "source": [
    "path = \"/Users/acamara/data/phrasenode/data/\"\n",
    "train = True\n",
    "TF_IDF_transformer = TF_IDF_Documents(path, force_train=train)"
   ]
  },
  {
   "cell_type": "code",
   "execution_count": 61,
   "metadata": {},
   "outputs": [
    {
     "data": {
      "text/plain": [
       "12"
      ]
     },
     "execution_count": 61,
     "metadata": {},
     "output_type": "execute_result"
    }
   ],
   "source": [
    "similarity_matrix.argmax()"
   ]
  },
  {
   "cell_type": "code",
   "execution_count": 64,
   "metadata": {},
   "outputs": [
    {
     "data": {
      "text/plain": [
       "12"
      ]
     },
     "execution_count": 64,
     "metadata": {},
     "output_type": "execute_result"
    }
   ],
   "source": [
    "line_data['xid']"
   ]
  },
  {
   "cell_type": "code",
   "execution_count": 66,
   "metadata": {},
   "outputs": [
    {
     "data": {
      "text/plain": [
       "True"
      ]
     },
     "execution_count": 66,
     "metadata": {},
     "output_type": "execute_result"
    }
   ],
   "source": [
    "line_data['xid']==similarity_matrix.argmax()"
   ]
  },
  {
   "cell_type": "code",
   "execution_count": 65,
   "metadata": {},
   "outputs": [
    {
     "data": {
      "text/plain": [
       "u'home-'"
      ]
     },
     "execution_count": 65,
     "metadata": {},
     "output_type": "execute_result"
    }
   ],
   "source": [
    "page_docs[12]"
   ]
  },
  {
   "cell_type": "code",
   "execution_count": 83,
   "metadata": {},
   "outputs": [],
   "source": [
    "from tqdm import tqdm_notebook as tqdm"
   ]
  },
  {
   "cell_type": "code",
   "execution_count": 87,
   "metadata": {},
   "outputs": [
    {
     "data": {
      "application/vnd.jupyter.widget-view+json": {
       "model_id": "2ccb227133a541e980781dcf5f26ea63",
       "version_major": 2,
       "version_minor": 0
      },
      "text/plain": [
       "HBox(children=(IntProgress(value=0, max=10251), HTML(value=u'')))"
      ]
     },
     "metadata": {},
     "output_type": "display_data"
    },
    {
     "name": "stdout",
     "output_type": "stream",
     "text": [
      "\n"
     ]
    }
   ],
   "source": [
    "import json\n",
    "matches = []\n",
    "for line in tqdm(open(TF_IDF_transformer.test_path).readlines()):\n",
    "    line_data = json.loads(line)\n",
    "    query = query_cleaner(line_data['phrase'])\n",
    "#     print(query)\n",
    "    page = line_data[\"webpage\"]\n",
    "    docs_vectors, page_docs = TF_IDF_transformer.load_docs_for_page(page)\n",
    "    query_vector = TF_IDF_transformer.get_query_vector(query)\n",
    "    similarity_matrix = cosine_similarity(query_vector, docs_vectors)\n",
    "    best_match = similarity_matrix.argmax()\n",
    "    target = line_data['xid']\n",
    "    matches.append(target==best_match)\n",
    "    if len(matches) > 10:\n",
    "        break"
   ]
  },
  {
   "cell_type": "code",
   "execution_count": 8,
   "metadata": {},
   "outputs": [
    {
     "data": {
      "text/plain": [
       "<108x689547 sparse matrix of type '<type 'numpy.float64'>'\n",
       "\twith 6543 stored elements in Compressed Sparse Row format>"
      ]
     },
     "execution_count": 8,
     "metadata": {},
     "output_type": "execute_result"
    }
   ],
   "source": [
    "docs_vectors"
   ]
  },
  {
   "cell_type": "code",
   "execution_count": 47,
   "metadata": {},
   "outputs": [
    {
     "data": {
      "text/plain": [
       "u'other servic dropdown header'"
      ]
     },
     "execution_count": 47,
     "metadata": {},
     "output_type": "execute_result"
    }
   ],
   "source": [
    "doc.replace(\"-\", \" \")"
   ]
  },
  {
   "cell_type": "code",
   "execution_count": 76,
   "metadata": {},
   "outputs": [
    {
     "data": {
      "text/plain": [
       "108"
      ]
     },
     "execution_count": 76,
     "metadata": {},
     "output_type": "execute_result"
    }
   ],
   "source": [
    "len(page_docs)"
   ]
  },
  {
   "cell_type": "code",
   "execution_count": 81,
   "metadata": {},
   "outputs": [],
   "source": [
    "reverse_index = {feature: idx for idx, feature in enumerate(self.transformer.get_feature_names())}"
   ]
  },
  {
   "cell_type": "code",
   "execution_count": 102,
   "metadata": {},
   "outputs": [],
   "source": [
    "query_vector = self.transformer.transform([query])"
   ]
  },
  {
   "cell_type": "code",
   "execution_count": null,
   "metadata": {},
   "outputs": [],
   "source": [
    "len()"
   ]
  },
  {
   "cell_type": "code",
   "execution_count": 104,
   "metadata": {},
   "outputs": [
    {
     "data": {
      "text/plain": [
       "(1, 108)"
      ]
     },
     "execution_count": 104,
     "metadata": {},
     "output_type": "execute_result"
    }
   ],
   "source": [
    "cosine_similarity(query_vector, tf_idfs).shape"
   ]
  },
  {
   "cell_type": "code",
   "execution_count": 117,
   "metadata": {},
   "outputs": [
    {
     "data": {
      "text/plain": [
       "u'home-'"
      ]
     },
     "execution_count": 117,
     "metadata": {},
     "output_type": "execute_result"
    }
   ],
   "source": [
    "page_docs[12]"
   ]
  },
  {
   "cell_type": "code",
   "execution_count": 114,
   "metadata": {},
   "outputs": [
    {
     "data": {
      "text/plain": [
       "{u'equiv': [12],\n",
       " u'exampleId': u'3PW9OPU9PREF0OL3SDSRC5UBCW512V_a0',\n",
       " u'phrase': u'go to home page',\n",
       " u'version': u'v6',\n",
       " u'webpage': u'110mb.com',\n",
       " u'xid': 12}"
      ]
     },
     "execution_count": 114,
     "metadata": {},
     "output_type": "execute_result"
    }
   ],
   "source": [
    "line_data"
   ]
  },
  {
   "cell_type": "code",
   "execution_count": 127,
   "metadata": {},
   "outputs": [
    {
     "ename": "NameError",
     "evalue": "global name 'tf_ids' is not defined",
     "output_type": "error",
     "traceback": [
      "\u001b[0;31m---------------------------------------------------------------------------\u001b[0m",
      "\u001b[0;31mNameError\u001b[0m                                 Traceback (most recent call last)",
      "\u001b[0;32m<ipython-input-127-f8ed2d37d9c0>\u001b[0m in \u001b[0;36m<module>\u001b[0;34m()\u001b[0m\n\u001b[0;32m----> 1\u001b[0;31m \u001b[0mTF_IDF_transformer\u001b[0m\u001b[0;34m.\u001b[0m\u001b[0mload_docs_for_page\u001b[0m\u001b[0;34m(\u001b[0m\u001b[0mpage\u001b[0m\u001b[0;34m)\u001b[0m\u001b[0;34m\u001b[0m\u001b[0m\n\u001b[0m",
      "\u001b[0;32m/Users/acamara/not-a-punching-bag/reproduction/phrasenode/IR-Baseline/tf_idf_documents.py\u001b[0m in \u001b[0;36mload_docs_for_page\u001b[0;34m(self, page)\u001b[0m\n\u001b[1;32m     69\u001b[0m         \u001b[0mpage_docs\u001b[0m\u001b[0;34m,\u001b[0m \u001b[0mattributes\u001b[0m \u001b[0;34m=\u001b[0m \u001b[0mget_documents_from_file\u001b[0m\u001b[0;34m(\u001b[0m\u001b[0mdoc_path\u001b[0m\u001b[0;34m)\u001b[0m\u001b[0;34m\u001b[0m\u001b[0m\n\u001b[1;32m     70\u001b[0m         \u001b[0mclear_page_docs\u001b[0m \u001b[0;34m=\u001b[0m \u001b[0;34m[\u001b[0m\u001b[0mx\u001b[0m\u001b[0;34m.\u001b[0m\u001b[0mreplace\u001b[0m\u001b[0;34m(\u001b[0m\u001b[0;34m\"-\"\u001b[0m\u001b[0;34m,\u001b[0m \u001b[0;34m\" \"\u001b[0m\u001b[0;34m)\u001b[0m \u001b[0;32mfor\u001b[0m \u001b[0mx\u001b[0m \u001b[0;32min\u001b[0m \u001b[0mpage_docs\u001b[0m\u001b[0;34m]\u001b[0m\u001b[0;34m\u001b[0m\u001b[0m\n\u001b[0;32m---> 71\u001b[0;31m         \u001b[0;31m# count_vectors = self.count_vector.transform(clear_page_docs)\u001b[0m\u001b[0;34m\u001b[0m\u001b[0;34m\u001b[0m\u001b[0m\n\u001b[0m\u001b[1;32m     72\u001b[0m         \u001b[0mtf_idfs\u001b[0m \u001b[0;34m=\u001b[0m \u001b[0mself\u001b[0m\u001b[0;34m.\u001b[0m\u001b[0mtransformer\u001b[0m\u001b[0;34m.\u001b[0m\u001b[0mtransform\u001b[0m\u001b[0;34m(\u001b[0m\u001b[0mclear_page_docs\u001b[0m\u001b[0;34m)\u001b[0m\u001b[0;34m\u001b[0m\u001b[0m\n\u001b[1;32m     73\u001b[0m         \u001b[0;31m#decrease score by alpha for attributes\u001b[0m\u001b[0;34m\u001b[0m\u001b[0;34m\u001b[0m\u001b[0m\n",
      "\u001b[0;31mNameError\u001b[0m: global name 'tf_ids' is not defined"
     ]
    }
   ],
   "source": [
    "TF_IDF_transformer.load_docs_for_page(page)"
   ]
  },
  {
   "cell_type": "code",
   "execution_count": 125,
   "metadata": {},
   "outputs": [
    {
     "name": "stdout",
     "output_type": "stream",
     "text": [
      "go to home page\n",
      "product\n",
      "click on our product\n",
      "drop down what this site offer to buy\n",
      "view contact us\n",
      "go to contact us\n",
      "open tab to speak with support\n",
      "get in touch\n",
      "see if there is a way to contact anyon about the site\n",
      "click about\n",
      "about us\n",
      "open about page\n"
     ]
    }
   ],
   "source": [
    "for counter, line in enumerate(open(TF_IDF_transformer._train_queries_path)):\n",
    "    line_data = json.loads(line)\n",
    "    query = query_cleaner(line_data['phrase'])\n",
    "    print(query)\n",
    "    page = line_data[\"webpage\"]\n",
    "#     page_docs = TF_IDF_transformer.load_docs_for_page(page)\n",
    "    if counter>10:\n",
    "        break\n"
   ]
  },
  {
   "cell_type": "code",
   "execution_count": 96,
   "metadata": {},
   "outputs": [
    {
     "name": "stdout",
     "output_type": "stream",
     "text": [
      "4 not in index\n",
      "1 not in index\n",
      "4 not in index\n",
      "4 not in index\n",
      "a not in index\n"
     ]
    }
   ],
   "source": [
    "import os\n",
    "from document_cleaner import get_documents_from_file\n",
    "\n",
    "\n",
    "# def load_docs_for_page(page, self=TF_IDF_transformer):\n",
    "self = TF_IDF_transformer\n",
    "doc_path = doc_path = os.path.join(self._data_home, \"phrase-node-dataset\",\n",
    "                                   \"infos\", \"v6\", \"info-\"+page+\".gz\")\n",
    "page_docs, attributes = get_documents_from_file(doc_path)\n",
    "clear_page_docs = [x.replace(\"-\", \" \") for x in page_docs]\n",
    "tf_idfs = self.transformer.transform(clear_page_docs)\n",
    "for counter, doc in enumerate(page_docs):\n",
    "    if \"-\" not in doc:\n",
    "        continue\n",
    "    attrs_to_demote = doc.split(\"-\")[1].split(\" \")\n",
    "    for attr in attrs_to_demote:\n",
    "        if len(attr) < 1:\n",
    "            continue\n",
    "        if attr.lower() not in reverse_index:\n",
    "            print(\"{} not in index\".format(attr))\n",
    "            continue\n",
    "        idx = reverse_index[attr.lower()]\n",
    "        tf_idfs[counter, idx] = tf_idfs[counter, idx]/self.alpha\n",
    "    "
   ]
  },
  {
   "cell_type": "code",
   "execution_count": 97,
   "metadata": {},
   "outputs": [],
   "source": [
    "from sklearn.metrics.pairwise import cosine_similarity"
   ]
  },
  {
   "cell_type": "code",
   "execution_count": 10,
   "metadata": {},
   "outputs": [],
   "source": [
    "import json\n",
    "from  document_cleaner import query_cleaner\n",
    "\n",
    "for counter, line in enumerate(open(TF_IDF_transformer._train_queries_path)):\n",
    "    line_data = json.loads(line)\n",
    "    query = query_cleaner(line_data['phrase'])\n",
    "    page = line_data[\"webpage\"]\n",
    "    page_docs = load_docs_for_page(page)\n",
    "    break"
   ]
  }
 ],
 "metadata": {
  "kernelspec": {
   "display_name": "Python 2",
   "language": "python",
   "name": "python2"
  },
  "language_info": {
   "codemirror_mode": {
    "name": "ipython",
    "version": 2
   },
   "file_extension": ".py",
   "mimetype": "text/x-python",
   "name": "python",
   "nbconvert_exporter": "python",
   "pygments_lexer": "ipython2",
   "version": "2.7.15"
  }
 },
 "nbformat": 4,
 "nbformat_minor": 2
}
